{
  "nbformat": 4,
  "nbformat_minor": 0,
  "metadata": {
    "colab": {
      "name": "Tarea0_Ciencia_Datos.ipynb",
      "provenance": [],
      "include_colab_link": true
    },
    "kernelspec": {
      "name": "python3",
      "display_name": "Python 3"
    }
  },
  "cells": [
    {
      "cell_type": "markdown",
      "metadata": {
        "id": "view-in-github",
        "colab_type": "text"
      },
      "source": [
        "<a href=\"https://colab.research.google.com/github/al-aguilar/TareasBigData2021/blob/main/Tarea0_Ciencia_Datos.ipynb\" target=\"_parent\"><img src=\"https://colab.research.google.com/assets/colab-badge.svg\" alt=\"Open In Colab\"/></a>"
      ]
    },
    {
      "cell_type": "markdown",
      "metadata": {
        "id": "9F6TojGqp3RO"
      },
      "source": [
        "\\begin{equation}\n",
        " \\textbf{ Tarea 0 Seminario de Estadística I}\n",
        "\\end{equation}"
      ]
    },
    {
      "cell_type": "markdown",
      "metadata": {
        "id": "uxtQ5tTobC7k"
      },
      "source": [
        "Integrantes:\n",
        "\n",
        "---\n",
        "*   *Aguilar Duarte Alfonso*\n",
        "*   *Calderón Enríquez Luis Angel*\n",
        "*   *García Reyes Carlos Alberto*\n",
        "*   *González Rojas Katia*\n",
        "\n",
        "   \n",
        "\n",
        "\n"
      ]
    },
    {
      "cell_type": "markdown",
      "metadata": {
        "id": "op43kaFqyK88"
      },
      "source": [
        "#### **Complejidad Computacional Notación O(n) (asymptotic upper bound)**\n",
        "\n",
        "  Demuestre lo siguiente:"
      ]
    },
    {
      "cell_type": "markdown",
      "metadata": {
        "id": "UAVAZnudyldG"
      },
      "source": [
        "1. Si $f_{1}$ es $O(g_{1})$ y $f_{2}$ es $O(g_{2})$, entonces $\\left(f_{1}+f_{2}\\right)$ es $O(\\max(|g_{1}|,|g_{2}|))$. "
      ]
    },
    {
      "cell_type": "markdown",
      "metadata": {
        "id": "fcWL7FHr0oOw"
      },
      "source": [
        "> Por definición, si $f_{1}$ es $O(g_{1})$ entonces existen $n_{1}, c_{1} \\in \\mathbb{R}^{+}$, tales que $ 0 \\leq f_{1}(n) \\leq c_{1} g_{1}(n) \\ \\ \\forall \\ n \\geq n_{1}$. De igual manera, si $f_{2}$ es $O(g_{2})$ entonces existen $n_{2}, c_{2} \\in \\mathbb{R}^{+}$, tales que $0 \\leq f_{2}(n) \\leq c_{2} g_{2}(n) \\ \\ \\forall \\ n \\geq n_{2}$. \n",
        "\n",
        "> Así, $ f_{1}(n)+f_{2}(n) \\leq c_{1} |g_{1}(n)|+c_{2} |g_{2}(n)| \\ \\ \\forall \\ n \\geq n_{0}$\n",
        "donde $n_{0}=\\max(n_{1},n_{2})$.\n",
        "\n",
        "> Ahora, supongamos que $|g_{1}| \\leq |g_{2}|$, haciendo así que $\\max(|g_{1}|,|g_{2}|)=|g_{2}|$. Entonces\n",
        " \\begin{eqnarray}\n",
        "  O(g_{1})+O(g_{2}) &=& c_{1}g_{1}+c_{2}g_{2}\\\\\n",
        "  &\\leq& c_{1}|g_{1}|+c_{2}|g_{2}|\\\\\n",
        "  &\\leq& c_{1}|g_{2}|+c_{2}|g_{2}|\\\\\n",
        "  &=& (c_{1}+c_{2}) |g_{2}|, \\text{ tomando } k=(c_{1}+c_{2})\\\\\n",
        "  &=& k |g_{2}|.\n",
        " \\end{eqnarray}\n",
        " Análogamente, suponiendo que $|g_{2}|\\leq |g_{1}|$ obtenemos que \n",
        " \\begin{equation}\n",
        "  O(g_{1})+O(g_{2}) \\leq k |g_{1}|\n",
        " \\end{equation}\n",
        "\n",
        "> Por lo tanto, $O(g_{1})+O(g_{2}) = O(\\max(|g_{1}|,|g_{2}|))$, es decir, $f_{1}+f_{2}$ tiene complejidad $O(\\max(|g_{1}|,|g_{2}|))$.\n",
        "                                                                $\\square$"
      ]
    },
    {
      "cell_type": "markdown",
      "metadata": {
        "id": "efCOWkSY9dTp"
      },
      "source": [
        "2. Si $f_{1}$ es $O(g_{1})$ y $f_{2}$ es $O(g_{2})$, entonces $(f_{1}f_{2})$ es $O(g_{1} g_{2})$."
      ]
    },
    {
      "cell_type": "markdown",
      "metadata": {
        "id": "thQkB-Pn-v5C"
      },
      "source": [
        "> Siguiendo el razonamiento del ejercicio anterior, tenemos que \n",
        "\\begin{eqnarray}\n",
        "  f_{1}*f_{2} &\\leq& (c_{1}g_{1})*(c_{2}g_{2})\\\\\n",
        "  &=& c_{1}c_{2}g_{1}g_{2}, \\text{   y haciendo } k = c_{1}*c_{2} \\\\\n",
        "  &=& k g_{1} g_{2}\\\\\n",
        "  &=&O(g_{1}*g_{2})\n",
        "\\end{eqnarray}\n",
        "es decir, $(f_{1}f_{2})$ es $O(g_{1}g_{2})$. \n",
        "                                                $\\square$"
      ]
    },
    {
      "cell_type": "markdown",
      "metadata": {
        "id": "NViZT3XqAEDe"
      },
      "source": [
        "3. ¿Cuál es la complejidad del siguiente algoritmo (O)?\n",
        "\n",
        ">for(i = 0; i < N; i++){ \n",
        "\n",
        ">> for(j = 0; j < M; j++){ \n",
        "\n",
        ">>>  print(i,j)  \n",
        "\n",
        ">> } \\\n",
        "\n",
        ">}"
      ]
    },
    {
      "cell_type": "markdown",
      "metadata": {
        "id": "YlDZPV7eBTvH"
      },
      "source": [
        "> Notamos que podemos aplicar la propiedad anterior, viendo al primer *for* como $f_{1}$ con $O(g_{1})=N$  y al segundo *for* como $f_{2}$ con $O(g_{2})=M$. Por lo que su complejidad en tiempo estaría dada por $O(NM)$.\n",
        "\n",
        ">Por otra parte, dado que se tiene un número fijo de variables (que no depende de $n$) y como única operación *print*, entonces el espacio que se necesita durante la ejecución del programa es constante, por lo que el algoritmo tiene una complejidad en espacio de $O(1)$."
      ]
    },
    {
      "cell_type": "markdown",
      "metadata": {
        "id": "AirI-D0lqbhJ"
      },
      "source": [
        "#### **Estadística Descriptiva**"
      ]
    },
    {
      "cell_type": "markdown",
      "metadata": {
        "id": "deiadvzwI1aN"
      },
      "source": [
        "1. Demuestre $-1 \\leq r_{XY} \\leq 1$ donde:\n",
        "\\begin{equation}\n",
        "r_{XY}=\\dfrac{\\sum_{i=1}^{n}(x_{i}-\\overline{x})(y_{i}-\\overline{y})}{\\sqrt{\\sum_{i=1}^{n}(x_{i}-\\overline{x})^{2}\\sum_{i=1}^{n}(y_{i}-\\overline{y})^{2}    }  }\n",
        "\\end{equation}"
      ]
    },
    {
      "cell_type": "markdown",
      "metadata": {
        "id": "A3FTRXsbLbu_"
      },
      "source": [
        "\n",
        "\n",
        "> Recordando, una de las versiones de la desigualdad de Cauchy-Schwatz, que nos dice dados dos vectores $u, \\nu \\in \\mathbb{R}^{n}$ se tiene que:\n",
        "\\begin{equation}\n",
        "\\bigg\\vert\\sum_{i=1}^{n}u_{i} \\nu_{i}\\bigg\\vert \\leq \\sqrt{ \\sum_{i=1}^{n}u_{i}^{2}  } \\sqrt{ \\sum_{i=1}^{n}\\nu_{i}^{2}  }  \n",
        "\\end{equation}\n",
        "Si tomamos $u_{i}=(x_{i}-\\overline{x})$ y $\\nu_{i}=(y_{i}-\\overline{y}) \\ \\forall \\ i = 1,...,n$, entonces,\n",
        "\\begin{equation}\n",
        "\\bigg\\vert\\sum_{i=1}^{n}(x_{i}-\\overline{x}) (y_{i}-\\overline{y})\\bigg\\vert \\leq \\sqrt{ \\sum_{i=1}^{n}(x_{i}-\\overline{x})^{2}  } \\sqrt{ \\sum_{i=1}^{n}(y_{i}-\\overline{y})^{2}  }.\n",
        "\\end{equation}\n",
        "o bien,\n",
        "\\begin{eqnarray}\n",
        "1 &\\geq& \\dfrac{ \\bigg \\vert \\sum_{i=1}^{n}(x_{i}-\\overline{x}) (y_{i}-\\overline{y}) \\bigg \\vert}{\\sqrt{ \\sum_{i=1}^{n}(x_{i}-\\overline{x})^{2}  } \\sqrt{ \\sum_{i=1}^{n}(y_{i}-\\overline{y})^{2}  }}\\\\\n",
        "&=& \\bigg \\vert \\dfrac{  \\sum_{i=1}^{n}(x_{i}-\\overline{x}) (y_{i}-\\overline{y}) }{\\sqrt{ \\sum_{i=1}^{n}(x_{i}-\\overline{x})^{2}  } \\sqrt{ \\sum_{i=1}^{n}(y_{i}-\\overline{y})^{2}  }} \\bigg \\vert \\\\\n",
        "&=& \\bigg \\vert r_{XY} \\bigg \\vert.\n",
        "\\end{eqnarray}\n",
        "\n",
        ">Por lo tanto, $|r_{XY}|\\leq 1$. $\\square$"
      ]
    },
    {
      "cell_type": "markdown",
      "metadata": {
        "id": "SfpR8y1LQAg6"
      },
      "source": [
        "2. Demuestre que $|r_{X Y}|=1$ si y solo si, existe una relación lineal entre las variables $X$ y $Y$, es decir, $y_{i}=\\alpha + \\beta \\ x_{i}$ con $\\beta\\neq 0$."
      ]
    },
    {
      "cell_type": "markdown",
      "metadata": {
        "id": "8xWaxs1KLHyM"
      },
      "source": [
        "> $\\underline{\\Leftarrow |}$ Primero notemos que si $y_{i} = \\alpha + \\beta \\ x_{i}$ con $\\beta \\neq 0$, tenemos que $\\frac{\\sum_{i=0}^{n}y_{i}}{n}=\\frac{\\sum_{i=0}^{n}(\\alpha + \\beta \\ x_{i})}{n}$, o bien, $\\overline{y}=\\alpha + \\beta \\ \\overline{x}$. Entonces, al sustituir en $r_{XY}$ y haciendo operaciones para reducir, se puede ver que\n",
        "\\begin{eqnarray}\n",
        "|r_{XY}|&=& \\bigg \\vert\\dfrac{\\sum_{i=1}^{n}(x_{i}-\\overline{x})(\\alpha+\\beta \\ x_{i}-(\\alpha+\\beta \\ \\overline{x}))}{\\sqrt{\\sum_{i=1}^{n}(x_{i}-\\overline{x})^{2}\\sum_{i=1}^{n}(\\alpha+\\beta \\ x_{i}-(\\alpha-\\beta \\ \\overline{x}))^{2}}} \\bigg \\vert \\\\ \n",
        "&=& \\dfrac{\\bigg \\vert \\sum_{i=1}^{n}(x_{i}-\\overline{x})(\\beta \\ x_{i}-\\beta \\ \\overline{x})\\bigg \\vert}{\\sqrt{\\sum_{i=1}^{n}(x_{i}-\\overline{x})^{2}\\sum_{i=1}^{n}(\\alpha+\\beta \\ x_{i}-(\\alpha-\\beta \\ \\overline{x}))^{2}}}\\\\\n",
        "&=& \\dfrac{|\\beta| \\bigg \\vert \\sum_{i=1}^{n}(x_{i}-\\overline{x})^{2}\\bigg \\vert}{\\sqrt{\\beta^{2} \\sum_{i=1}^{n}(x_{i}-\\overline{x})^{2}\\sum_{i=1}^{n}( x_{i}- \\overline{x})^{2}}}\\\\\n",
        "&=& \\dfrac{|\\beta|  \\sum_{i=1}^{n}(x_{i}-\\overline{x})^{2}}{|\\beta|\\sqrt{\\left(\\sum_{i=1}^{n}(x_{i}-\\overline{x})^{2}\\right)^{2}}}\\\\\n",
        "&=& \\dfrac{ \\sum_{i=1}^{n}(x_{i}-\\overline{x})^{2}}{\\sum_{i=1}^{n}(x_{i}-\\overline{x})^{2}}=1\n",
        "\\end{eqnarray}\n",
        "\n",
        "> $\\underline{\\Rightarrow |}$ Para demostrar esta implicación, basta con notar que podemos tomar un ''uno conveniente'', es decir, si $$|r_{XY}|=1=\\frac{ \\sum_{i=1}^{n}(x_{i}-\\overline{x})^{2}}{\\sum_{i=1}^{n}(x_{i}-\\overline{x})^{2}}$$ así, agregando lo correspondiente,  las igualdades de la implicación anterior nos llevan a que $y_{i}=\\alpha + \\beta \\ x_{i}$, con $\\beta \\neq 0$. Esto es, que las vaciables $X$ y $Y$ tienen una relación lineal.\n",
        "\n",
        "> Con lo demostrado por las dos implicaciones anteriores tenemos que se cumple la premisa. $\\square$"
      ]
    },
    {
      "cell_type": "markdown",
      "metadata": {
        "id": "p1VGZrzvAS8x"
      },
      "source": [
        "Las calificaciones de 50 alumnos en Estadística han sido las siguientes:"
      ]
    },
    {
      "cell_type": "code",
      "metadata": {
        "id": "nJkePR6SAwFW"
      },
      "source": [
        "calif=[0, 1, 2, 2, 3, 3, 3, 4, 4, 4, 4, 4, 4, 5, 5, 5, 5, 5, 5, 5, 5, 5, 5, 5, 6,\n",
        "6, 6, 6, 6, 6, 6, 6, 6, 6, 6, 6, 7, 7, 7, 7, 7, 7, 7, 8, 8, 8, 8, 9, 9, 10]"
      ],
      "execution_count": null,
      "outputs": []
    },
    {
      "cell_type": "markdown",
      "metadata": {
        "id": "FU8nE4rxA9aA"
      },
      "source": [
        "1. Calcular las medidas de tendencia central y de dispersión, ademas encuentre el Percentil 0.25 y 0.75 y elabore un gráfico de caja y brazos e histograma."
      ]
    },
    {
      "cell_type": "markdown",
      "metadata": {
        "id": "2gjGoSDxlDbn"
      },
      "source": [
        "\n",
        " * Medidas de tendencia central:"
      ]
    },
    {
      "cell_type": "code",
      "metadata": {
        "id": "1Pwyt6IGBQFK",
        "outputId": "c787b6a3-f494-4c32-e1e2-1d3b07b52b5e",
        "colab": {
          "base_uri": "https://localhost:8080/",
          "height": 118
        }
      },
      "source": [
        "import numpy as np\n",
        "import statistics\n",
        " \n",
        "print(\"Media: \" + str(np.mean(calif)))\n",
        "print(\"Mediana: \" + str(np.median(calif)))\n",
        "print(\"Moda: \" + str(statistics.mode(calif)) + \"\\n\")\n",
        "print(\"Percentil 0.25: \" + str(np.percentile(calif, 25)))\n",
        "print(\"Percentil 0.75: \" + str(np.percentile(calif, 75)))"
      ],
      "execution_count": null,
      "outputs": [
        {
          "output_type": "stream",
          "text": [
            "Media: 5.48\n",
            "Mediana: 6.0\n",
            "Moda: 6\n",
            "\n",
            "Percentil 0.25: 4.25\n",
            "Percentil 0.75: 7.0\n"
          ],
          "name": "stdout"
        }
      ]
    },
    {
      "cell_type": "markdown",
      "metadata": {
        "id": "NozK1g0eBWxF"
      },
      "source": [
        " * Medidas de dispersión:"
      ]
    },
    {
      "cell_type": "code",
      "metadata": {
        "id": "RgyQDS-oBcRV",
        "outputId": "6853a09f-0097-4dfb-f4f1-7737a3819d1e",
        "colab": {
          "base_uri": "https://localhost:8080/",
          "height": 101
        }
      },
      "source": [
        "print(\"Varianza muestral: \" + str(round(np.var(calif, ddof = 1),4)))\n",
        "print(\"Desviación estándar: \" + str(round(np.std(calif, ddof = 1),4)))\n",
        "print(\"Rango: \" + str(calif[len(calif)-1] - calif[0]))\n",
        "print(\"Rango intercuartil: \" + str(np.subtract(*np.percentile(calif, [75, 25]))))\n",
        "print(\"Coeficiente de variación: \" + str(round(np.std(calif, ddof=1)/np.mean(calif)*100,4)))"
      ],
      "execution_count": null,
      "outputs": [
        {
          "output_type": "stream",
          "text": [
            "Varianza muestral: 4.0506\n",
            "Desviación estándar: 2.0126\n",
            "Rango: 10\n",
            "Rango intercuartil: 2.75\n",
            "Coeficiente de variación: 36.7265\n"
          ],
          "name": "stdout"
        }
      ]
    },
    {
      "cell_type": "markdown",
      "metadata": {
        "id": "-w-D9HrKBjqW"
      },
      "source": [
        "* Diagrama de caja y brazos"
      ]
    },
    {
      "cell_type": "code",
      "metadata": {
        "id": "mmPP1-ZWBpa2",
        "outputId": "6b867348-5ec6-46af-df23-640150c7edc8",
        "colab": {
          "base_uri": "https://localhost:8080/",
          "height": 282
        }
      },
      "source": [
        "import seaborn as sns\n",
        "sns.boxplot(data=calif, palette=\"flare\")\n"
      ],
      "execution_count": null,
      "outputs": [
        {
          "output_type": "execute_result",
          "data": {
            "text/plain": [
              "<matplotlib.axes._subplots.AxesSubplot at 0x7fbfc813ceb8>"
            ]
          },
          "metadata": {
            "tags": []
          },
          "execution_count": 13
        },
        {
          "output_type": "display_data",
          "data": {
            "image/png": "[encoded data removed]",
            "text/plain": [
              "<Figure size 432x288 with 1 Axes>"
            ]
          },
          "metadata": {
            "tags": [],
            "needs_background": "light"
          }
        }
      ]
    },
    {
      "cell_type": "markdown",
      "metadata": {
        "id": "dzvsfsytBqqj"
      },
      "source": [
        " * Histograma"
      ]
    },
    {
      "cell_type": "code",
      "metadata": {
        "id": "MwyIrjqEByei",
        "outputId": "dcf138b4-d7dd-4b19-a686-182189a20e18",
        "colab": {
          "base_uri": "https://localhost:8080/",
          "height": 283
        }
      },
      "source": [
        "import seaborn as sns\n",
        "\n",
        "sns.set_color_codes()\n",
        "sns.histplot(calif, color=\"c\") \n"
      ],
      "execution_count": null,
      "outputs": [
        {
          "output_type": "execute_result",
          "data": {
            "text/plain": [
              "<matplotlib.axes._subplots.AxesSubplot at 0x7fe27b8a3a90>"
            ]
          },
          "metadata": {
            "tags": []
          },
          "execution_count": 3
        },
        {
          "output_type": "display_data",
          "data": {
            "image/png": "[encoded data removed]",
            "text/plain": [
              "<Figure size 432x288 with 1 Axes>"
            ]
          },
          "metadata": {
            "tags": [],
            "needs_background": "light"
          }
        }
      ]
    },
    {
      "cell_type": "markdown",
      "metadata": {
        "id": "wr6GKst2B2jz"
      },
      "source": [
        "2. ¿Los distribución de estos datos es Sesgada a la Izquierda?"
      ]
    },
    {
      "cell_type": "code",
      "metadata": {
        "id": "vQw8XsgjB9mQ",
        "outputId": "6a7c9370-9606-4c90-8af9-d9555f2960ff",
        "colab": {
          "base_uri": "https://localhost:8080/",
          "height": 34
        }
      },
      "source": [
        "from scipy import stats\n",
        "print(\"No, como el coeficiente de asimetría es \" + str(round(stats.skew(calif), 4)) + \" < 0, entonces los datos están sesgados a la derecha.\")"
      ],
      "execution_count": null,
      "outputs": [
        {
          "output_type": "stream",
          "text": [
            "No, como el coeficiente de asimetría es -0.3422 < 0, entonces los datos están sesgados a la derecha.\n"
          ],
          "name": "stdout"
        }
      ]
    },
    {
      "cell_type": "markdown",
      "metadata": {
        "id": "K8w_U1p3LIGX"
      },
      "source": [
        "Los 40 alumnos de una clase han obtenido las siguientes puntuaciones, sobre 50, en un examen de Física."
      ]
    },
    {
      "cell_type": "code",
      "metadata": {
        "id": "1TkjweUNMHxy"
      },
      "source": [
        "cal=[48, 47, 44, 42, 41, 39, 39, 38, 38, 38, 37, 36, 36, 35, 35, 34, 34, 34, 33,\n",
        "32, 32, 31, 29, 28, 28, 27, 26, 25, 24, 23, 22, 20, 17, 15, 15, 13, 13, 11, 7, 3]\n"
      ],
      "execution_count": null,
      "outputs": []
    },
    {
      "cell_type": "markdown",
      "metadata": {
        "id": "t6b2EB6AMWfq"
      },
      "source": [
        "Calcular las medidas de tendencia central y de dispersión, ademas encuentre el Cuartil 1 y 3 así como los Deciles 1 y 9. "
      ]
    },
    {
      "cell_type": "code",
      "metadata": {
        "id": "H6b6DaUgMX8f"
      },
      "source": [
        "#Cargamos los datos bajo PANDAS\n",
        "import pandas as pd\n",
        "df=pd.DataFrame(cal)\n",
        "\n"
      ],
      "execution_count": null,
      "outputs": []
    },
    {
      "cell_type": "code",
      "metadata": {
        "id": "hQfEixMbZvS8",
        "outputId": "b89b5508-8909-457a-d967-8f2f65d74308",
        "colab": {
          "base_uri": "https://localhost:8080/",
          "height": 50
        }
      },
      "source": [
        "# Calculamos la media\n",
        "# Tendencia central\n",
        "df.mean()"
      ],
      "execution_count": null,
      "outputs": [
        {
          "output_type": "execute_result",
          "data": {
            "text/plain": [
              "0    29.225\n",
              "dtype: float64"
            ]
          },
          "metadata": {
            "tags": []
          },
          "execution_count": 9
        }
      ]
    },
    {
      "cell_type": "code",
      "metadata": {
        "id": "z5cAFaOHaYJn",
        "outputId": "360d1b29-1f66-42cf-c205-e6e36147d705",
        "colab": {
          "base_uri": "https://localhost:8080/",
          "height": 50
        }
      },
      "source": [
        "# Calculamos la mediana\n",
        "# Tendencia central\n",
        "df.median()"
      ],
      "execution_count": null,
      "outputs": [
        {
          "output_type": "execute_result",
          "data": {
            "text/plain": [
              "0    32.0\n",
              "dtype: float64"
            ]
          },
          "metadata": {
            "tags": []
          },
          "execution_count": 10
        }
      ]
    },
    {
      "cell_type": "code",
      "metadata": {
        "id": "lSP8kSkpak9s",
        "outputId": "4094852b-f250-49ab-8930-37879651e32f",
        "colab": {
          "base_uri": "https://localhost:8080/",
          "height": 106
        }
      },
      "source": [
        "# Calculamos la moda\n",
        "# Tendencia central\n",
        "df.mode()"
      ],
      "execution_count": null,
      "outputs": [
        {
          "output_type": "execute_result",
          "data": {
            "text/html": [
              "<div>\n",
              "<style scoped>\n",
              "    .dataframe tbody tr th:only-of-type {\n",
              "        vertical-align: middle;\n",
              "    }\n",
              "\n",
              "    .dataframe tbody tr th {\n",
              "        vertical-align: top;\n",
              "    }\n",
              "\n",
              "    .dataframe thead th {\n",
              "        text-align: right;\n",
              "    }\n",
              "</style>\n",
              "<table border=\"1\" class=\"dataframe\">\n",
              "  <thead>\n",
              "    <tr style=\"text-align: right;\">\n",
              "      <th></th>\n",
              "      <th>0</th>\n",
              "    </tr>\n",
              "  </thead>\n",
              "  <tbody>\n",
              "    <tr>\n",
              "      <th>0</th>\n",
              "      <td>34</td>\n",
              "    </tr>\n",
              "    <tr>\n",
              "      <th>1</th>\n",
              "      <td>38</td>\n",
              "    </tr>\n",
              "  </tbody>\n",
              "</table>\n",
              "</div>"
            ],
            "text/plain": [
              "    0\n",
              "0  34\n",
              "1  38"
            ]
          },
          "metadata": {
            "tags": []
          },
          "execution_count": 11
        }
      ]
    },
    {
      "cell_type": "code",
      "metadata": {
        "id": "tp5l-_bSbd1v",
        "outputId": "8410b22e-182d-4a80-e06d-5ccb55b43f18",
        "colab": {
          "base_uri": "https://localhost:8080/",
          "height": 53
        }
      },
      "source": [
        "# Calculamos la varianza\n",
        "# Disperción\n",
        "df.var()"
      ],
      "execution_count": null,
      "outputs": [
        {
          "output_type": "execute_result",
          "data": {
            "text/plain": [
              "0    122.178846\n",
              "dtype: float64"
            ]
          },
          "metadata": {
            "tags": []
          },
          "execution_count": 8
        }
      ]
    },
    {
      "cell_type": "code",
      "metadata": {
        "id": "tpq0pkoRbm2S",
        "outputId": "40ba7b59-c3de-4868-f13c-79ae8e14cd0a",
        "colab": {
          "base_uri": "https://localhost:8080/",
          "height": 53
        }
      },
      "source": [
        "# Calculamos la desviación\n",
        "# Disperción\n",
        "df.std()"
      ],
      "execution_count": null,
      "outputs": [
        {
          "output_type": "execute_result",
          "data": {
            "text/plain": [
              "0    11.053454\n",
              "dtype: float64"
            ]
          },
          "metadata": {
            "tags": []
          },
          "execution_count": 9
        }
      ]
    },
    {
      "cell_type": "code",
      "metadata": {
        "id": "95f2RsZTb13_",
        "outputId": "f5d38a6a-f846-43ec-e08c-b8bfe953d125",
        "colab": {
          "base_uri": "https://localhost:8080/",
          "height": 90
        }
      },
      "source": [
        "# Calculamos los Cuartiles 1 y 3\n",
        "print(df.quantile(.25))\n",
        "print(df.quantile(.75))"
      ],
      "execution_count": null,
      "outputs": [
        {
          "output_type": "stream",
          "text": [
            "0    22.75\n",
            "Name: 0.25, dtype: float64\n",
            "0    37.25\n",
            "Name: 0.75, dtype: float64\n"
          ],
          "name": "stdout"
        }
      ]
    },
    {
      "cell_type": "code",
      "metadata": {
        "id": "KmHfmff9dBxl",
        "outputId": "ec9097b3-6719-4b42-e2f0-f33c273b40fd",
        "colab": {
          "base_uri": "https://localhost:8080/",
          "height": 90
        }
      },
      "source": [
        "# Calculamos los Deciles 1 y 9\n",
        "print(df.quantile(.10))\n",
        "print(df.quantile(.90))"
      ],
      "execution_count": null,
      "outputs": [
        {
          "output_type": "stream",
          "text": [
            "0    13.0\n",
            "Name: 0.1, dtype: float64\n",
            "0    41.1\n",
            "Name: 0.9, dtype: float64\n"
          ],
          "name": "stdout"
        }
      ]
    },
    {
      "cell_type": "markdown",
      "metadata": {
        "id": "CwFoIqnaeKg3"
      },
      "source": [
        " Elabore un gráfico de caja y brazos, así como el gráfico de distribución empírica."
      ]
    },
    {
      "cell_type": "code",
      "metadata": {
        "id": "NAvX5WWMeOfP",
        "outputId": "6bf60a45-2e81-4ad5-c97c-8ffc44c5d54a",
        "colab": {
          "base_uri": "https://localhost:8080/",
          "height": 313
        }
      },
      "source": [
        "#Gráfico de caja\n",
        "import matplotlib.pyplot as plt\n",
        "fig, ax = plt.subplots()\n",
        "ax.boxplot(cal)\n",
        "ax.set_xlabel(\"Registros\")\n",
        "ax.set_ylabel(\"Aciertos\")\n",
        "ax.set_title(\"Boxplot aciertos física\")\n",
        "plt.show"
      ],
      "execution_count": null,
      "outputs": [
        {
          "output_type": "execute_result",
          "data": {
            "text/plain": [
              "<function matplotlib.pyplot.show>"
            ]
          },
          "metadata": {
            "tags": []
          },
          "execution_count": 12
        },
        {
          "output_type": "display_data",
          "data": {
            "image/png": "[encoded data removed]",
            "text/plain": [
              "<Figure size 432x288 with 1 Axes>"
            ]
          },
          "metadata": {
            "tags": [],
            "needs_background": "light"
          }
        }
      ]
    },
    {
      "cell_type": "code",
      "metadata": {
        "id": "tTng25mrqU50",
        "outputId": "1378e9e4-af96-46b5-fe37-f6390a3f4bd0",
        "colab": {
          "base_uri": "https://localhost:8080/",
          "height": 313
        }
      },
      "source": [
        "# Distribución de la muestra\n",
        "import matplotlib.pyplot as plt\n",
        "fig2, ax2 = plt.subplots()\n",
        "ax2.hist(cal)\n",
        "ax2.set_xlabel(\"Aciertos\")\n",
        "ax2.set_ylabel(\"Observaciones\")\n",
        "ax2.set_title(\"Histograma calificaciones física\")\n",
        "plt.show"
      ],
      "execution_count": null,
      "outputs": [
        {
          "output_type": "execute_result",
          "data": {
            "text/plain": [
              "<function matplotlib.pyplot.show>"
            ]
          },
          "metadata": {
            "tags": []
          },
          "execution_count": 13
        },
        {
          "output_type": "display_data",
          "data": {
            "image/png": "[encoded data removed]",
            "text/plain": [
              "<Figure size 432x288 with 1 Axes>"
            ]
          },
          "metadata": {
            "tags": [],
            "needs_background": "light"
          }
        }
      ]
    },
    {
      "cell_type": "markdown",
      "metadata": {
        "id": "qbgOL379tGwU"
      },
      "source": [
        "¿Los datos tienen una distribución platicurtica?"
      ]
    },
    {
      "cell_type": "code",
      "metadata": {
        "id": "HjnapklVtLVa",
        "outputId": "27f63583-249e-4fa7-c011-82390d72e105",
        "colab": {
          "base_uri": "https://localhost:8080/",
          "height": 53
        }
      },
      "source": [
        "kurt = df.kurtosis()\n",
        "print(kurt)"
      ],
      "execution_count": null,
      "outputs": [
        {
          "output_type": "stream",
          "text": [
            "0   -0.34335\n",
            "dtype: float64\n"
          ],
          "name": "stdout"
        }
      ]
    },
    {
      "cell_type": "markdown",
      "metadata": {
        "id": "N9feNK9pxF1C"
      },
      "source": [
        "Es correcto, los datos tienen una baja concentración con respecto a su media."
      ]
    }
  ]
}